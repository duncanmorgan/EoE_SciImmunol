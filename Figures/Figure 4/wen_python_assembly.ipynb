{
 "cells": [
  {
   "cell_type": "code",
   "execution_count": 1,
   "metadata": {},
   "outputs": [],
   "source": [
    "# this file reads in the data from the GEO submission from Wen at al (JCI, 2019)\n",
    "# data from each cell is provided in a seprarate file\n",
    "import os\n",
    "import glob\n",
    "import pandas as pd\n",
    "import numpy as np"
   ]
  },
  {
   "cell_type": "code",
   "execution_count": 4,
   "metadata": {},
   "outputs": [
    {
     "data": {
      "text/plain": [
       "1089"
      ]
     },
     "execution_count": 4,
     "metadata": {},
     "output_type": "execute_result"
    }
   ],
   "source": [
    "files = glob.glob('WenData/Data/*gencode*gz')\n",
    "len(files)"
   ]
  },
  {
   "cell_type": "code",
   "execution_count": null,
   "metadata": {},
   "outputs": [],
   "source": [
    "# iterate across all files and join to a single data frame\n",
    "i = 0\n",
    "for curr in files:\n",
    "    os.system('gzip -d ' + curr)\n",
    "    decompressed_file = curr[:-3]\n",
    "    curr_df = pd.read_csv(decompressed_file, sep = '\\t', index_col= 0)\n",
    "    vec = curr_df.tpm\n",
    "    colName = '_'.join(decompressed_file.split('_')[1:4]) + str(i)\n",
    "    if curr == files[0]:\n",
    "        master_df = pd.DataFrame(vec)\n",
    "        master_df.columns = [colName]\n",
    "    else:\n",
    "        master_df[colName] = vec\n",
    "    i = i+1\n",
    "        \n",
    "    os.system('gzip ' + decompressed_file)"
   ]
  },
  {
   "cell_type": "code",
   "execution_count": 133,
   "metadata": {},
   "outputs": [],
   "source": [
    "master_df['gene'] = master_df.index\n",
    "master_df = master_df.drop('gene', axis = 1)"
   ]
  },
  {
   "cell_type": "code",
   "execution_count": 136,
   "metadata": {},
   "outputs": [],
   "source": [
    "genes = [x.split('_')[0] for x in master_df.index]\n",
    "genelist = list(set(genes))\n",
    "\n",
    "for curr in genelist:\n",
    "    rows = master_df.iloc[np.where(np.array(genes) == curr)]\n",
    "    rows.sum(axis = 0)\n",
    "    vec = rows.sum(axis = 0)\n",
    "    if curr == genelist[0]:\n",
    "        df = pd.DataFrame(vec)\n",
    "        df.columns = [curr]\n",
    "    else:\n",
    "        df[curr] = vec\n",
    "        "
   ]
  },
  {
   "cell_type": "code",
   "execution_count": 130,
   "metadata": {},
   "outputs": [
    {
     "data": {
      "text/html": [
       "<div>\n",
       "<style scoped>\n",
       "    .dataframe tbody tr th:only-of-type {\n",
       "        vertical-align: middle;\n",
       "    }\n",
       "\n",
       "    .dataframe tbody tr th {\n",
       "        vertical-align: top;\n",
       "    }\n",
       "\n",
       "    .dataframe thead th {\n",
       "        text-align: right;\n",
       "    }\n",
       "</style>\n",
       "<table border=\"1\" class=\"dataframe\">\n",
       "  <thead>\n",
       "    <tr style=\"text-align: right;\">\n",
       "      <th></th>\n",
       "      <th>OLFM5P</th>\n",
       "    </tr>\n",
       "  </thead>\n",
       "  <tbody>\n",
       "    <tr>\n",
       "      <th>Apr11_Cell_10</th>\n",
       "      <td>0</td>\n",
       "    </tr>\n",
       "    <tr>\n",
       "      <th>Apr11_Cell_101</th>\n",
       "      <td>0</td>\n",
       "    </tr>\n",
       "    <tr>\n",
       "      <th>Apr11_Cell_112</th>\n",
       "      <td>0</td>\n",
       "    </tr>\n",
       "    <tr>\n",
       "      <th>Apr11_Cell_123</th>\n",
       "      <td>0</td>\n",
       "    </tr>\n",
       "    <tr>\n",
       "      <th>Apr11_Cell_134</th>\n",
       "      <td>0</td>\n",
       "    </tr>\n",
       "    <tr>\n",
       "      <th>...</th>\n",
       "      <td>...</td>\n",
       "    </tr>\n",
       "    <tr>\n",
       "      <th>Oct24_Cell_641085</th>\n",
       "      <td>0</td>\n",
       "    </tr>\n",
       "    <tr>\n",
       "      <th>Oct24_Cell_71086</th>\n",
       "      <td>0</td>\n",
       "    </tr>\n",
       "    <tr>\n",
       "      <th>Oct24_Cell_81087</th>\n",
       "      <td>0</td>\n",
       "    </tr>\n",
       "    <tr>\n",
       "      <th>Oct24_Cell_91088</th>\n",
       "      <td>0</td>\n",
       "    </tr>\n",
       "    <tr>\n",
       "      <th>gene</th>\n",
       "      <td>OLFM5P_ENST00000411807.1</td>\n",
       "    </tr>\n",
       "  </tbody>\n",
       "</table>\n",
       "<p>1090 rows × 1 columns</p>\n",
       "</div>"
      ],
      "text/plain": [
       "                                     OLFM5P\n",
       "Apr11_Cell_10                             0\n",
       "Apr11_Cell_101                            0\n",
       "Apr11_Cell_112                            0\n",
       "Apr11_Cell_123                            0\n",
       "Apr11_Cell_134                            0\n",
       "...                                     ...\n",
       "Oct24_Cell_641085                         0\n",
       "Oct24_Cell_71086                          0\n",
       "Oct24_Cell_81087                          0\n",
       "Oct24_Cell_91088                          0\n",
       "gene               OLFM5P_ENST00000411807.1\n",
       "\n",
       "[1090 rows x 1 columns]"
      ]
     },
     "execution_count": 130,
     "metadata": {},
     "output_type": "execute_result"
    }
   ],
   "source": [
    "df = pd.DataFrame(rows.sum(axis = 0))\n",
    "df.columns =[ curr]\n",
    "df"
   ]
  },
  {
   "cell_type": "code",
   "execution_count": 147,
   "metadata": {},
   "outputs": [],
   "source": [
    "trans = df.transpose()\n",
    "trans = trans.reset_index()\n",
    "feather.write_dataframe(trans, 't.feather')"
   ]
  }
 ],
 "metadata": {
  "kernelspec": {
   "display_name": "Python 3",
   "language": "python",
   "name": "python3"
  },
  "language_info": {
   "codemirror_mode": {
    "name": "ipython",
    "version": 3
   },
   "file_extension": ".py",
   "mimetype": "text/x-python",
   "name": "python",
   "nbconvert_exporter": "python",
   "pygments_lexer": "ipython3",
   "version": "3.6.4"
  }
 },
 "nbformat": 4,
 "nbformat_minor": 2
}
