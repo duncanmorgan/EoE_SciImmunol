{
 "cells": [
  {
   "cell_type": "code",
   "execution_count": 36,
   "metadata": {},
   "outputs": [
    {
     "data": {
      "text/html": [
       "<ol class=list-inline>\n",
       "\t<li>18688</li>\n",
       "\t<li>26</li>\n",
       "</ol>\n"
      ],
      "text/latex": [
       "\\begin{enumerate*}\n",
       "\\item 18688\n",
       "\\item 26\n",
       "\\end{enumerate*}\n"
      ],
      "text/markdown": [
       "1. 18688\n",
       "2. 26\n",
       "\n",
       "\n"
      ],
      "text/plain": [
       "[1] 18688    26"
      ]
     },
     "metadata": {},
     "output_type": "display_data"
    },
    {
     "data": {
      "text/html": [
       "<ol class=list-inline>\n",
       "\t<li>9386</li>\n",
       "\t<li>26</li>\n",
       "</ol>\n"
      ],
      "text/latex": [
       "\\begin{enumerate*}\n",
       "\\item 9386\n",
       "\\item 26\n",
       "\\end{enumerate*}\n"
      ],
      "text/markdown": [
       "1. 9386\n",
       "2. 26\n",
       "\n",
       "\n"
      ],
      "text/plain": [
       "[1] 9386   26"
      ]
     },
     "metadata": {},
     "output_type": "display_data"
    },
    {
     "data": {
      "text/html": [
       "<ol class=list-inline>\n",
       "\t<li>9430</li>\n",
       "\t<li>26</li>\n",
       "</ol>\n"
      ],
      "text/latex": [
       "\\begin{enumerate*}\n",
       "\\item 9430\n",
       "\\item 26\n",
       "\\end{enumerate*}\n"
      ],
      "text/markdown": [
       "1. 9430\n",
       "2. 26\n",
       "\n",
       "\n"
      ],
      "text/plain": [
       "[1] 9430   26"
      ]
     },
     "metadata": {},
     "output_type": "display_data"
    },
    {
     "data": {
      "text/html": [
       "<ol class=list-inline>\n",
       "\t<li>5257</li>\n",
       "\t<li>26</li>\n",
       "</ol>\n"
      ],
      "text/latex": [
       "\\begin{enumerate*}\n",
       "\\item 5257\n",
       "\\item 26\n",
       "\\end{enumerate*}\n"
      ],
      "text/markdown": [
       "1. 5257\n",
       "2. 26\n",
       "\n",
       "\n"
      ],
      "text/plain": [
       "[1] 5257   26"
      ]
     },
     "metadata": {},
     "output_type": "display_data"
    },
    {
     "data": {
      "text/html": [
       "<ol class=list-inline>\n",
       "\t<li>42761</li>\n",
       "\t<li>26</li>\n",
       "</ol>\n"
      ],
      "text/latex": [
       "\\begin{enumerate*}\n",
       "\\item 42761\n",
       "\\item 26\n",
       "\\end{enumerate*}\n"
      ],
      "text/markdown": [
       "1. 42761\n",
       "2. 26\n",
       "\n",
       "\n"
      ],
      "text/plain": [
       "[1] 42761    26"
      ]
     },
     "metadata": {},
     "output_type": "display_data"
    },
    {
     "data": {
      "text/html": [
       "<table>\n",
       "<thead><tr><th></th><th scope=col>UMI_Name</th><th scope=col>BC</th><th scope=col>UMI</th><th scope=col>BCNum</th><th scope=col>UMINum</th><th scope=col>nReads</th><th scope=col>TopVregion</th><th scope=col>TopJregion</th><th scope=col>TopJ_5UTR</th><th scope=col>CDR3</th><th scope=col>...</th><th scope=col>CDR3ReadCount</th><th scope=col>CDR3Freq</th><th scope=col>TRBV</th><th scope=col>TRBJ.5UTR</th><th scope=col>TRBJ</th><th scope=col>TRBC</th><th scope=col>TRAV</th><th scope=col>TRAJ.5UTR</th><th scope=col>TRAJ</th><th scope=col>TRAC</th></tr></thead>\n",
       "<tbody>\n",
       "\t<tr><th scope=row>4</th><td>BC1UMI4          </td><td>ATCCGAAGGTTG     </td><td>CCAAGCCT         </td><td>1                </td><td>4                </td><td>  22             </td><td>TRAV13-1         </td><td>TRAJ39           </td><td>                 </td><td>CAAQ*CRQHAHL     </td><td>...              </td><td> 22              </td><td>1.00             </td><td> 21              </td><td>0                </td><td>   0             </td><td>0                </td><td> 22              </td><td>0                </td><td> 22              </td><td>0                </td></tr>\n",
       "\t<tr><th scope=row>5</th><td>BC2UMI1          </td><td>CCAACTGCCGAC     </td><td>GCAGAAGC         </td><td>2                </td><td>1                </td><td>1064             </td><td>TRBV7-9          </td><td>TRBJ1-2          </td><td>TRBJ2-6_5UTR     </td><td>CASSAGSDGRVYTFG  </td><td>...              </td><td>721              </td><td>0.98             </td><td>993              </td><td>2                </td><td>1000             </td><td>1                </td><td>775              </td><td>0                </td><td>  9              </td><td>0                </td></tr>\n",
       "\t<tr><th scope=row>8</th><td>BC3UMI1          </td><td>ATACCAGAAGAT     </td><td>CATCATAA         </td><td>3                </td><td>1                </td><td>2352             </td><td>TRBV28           </td><td>TRBJ1-5          </td><td>                 </td><td>CAILRELGQPQHF    </td><td>...              </td><td>935              </td><td>0.99             </td><td>998              </td><td>0                </td><td> 999             </td><td>0                </td><td> 23              </td><td>0                </td><td>  2              </td><td>0                </td></tr>\n",
       "\t<tr><th scope=row>9</th><td>BC3UMI2          </td><td>ATACCAGAAGAT     </td><td>TGGGGCAA         </td><td>3                </td><td>2                </td><td>1008             </td><td>TRAV12-1         </td><td>TRAJ3            </td><td>TRAJ10_5UTR      </td><td>CVVSGYSSASKIIF   </td><td>...              </td><td>643              </td><td>0.92             </td><td>110              </td><td>0                </td><td>   1             </td><td>0                </td><td>998              </td><td>1                </td><td>993              </td><td>0                </td></tr>\n",
       "\t<tr><th scope=row>10</th><td>BC3UMI3          </td><td>ATACCAGAAGAT     </td><td>AAGACCGG         </td><td>3                </td><td>3                </td><td> 246             </td><td>TRBV7-2          </td><td>TRBJ2-7          </td><td>TRBJ2-6_5UTR     </td><td>CASSFTSGYEQYF    </td><td>...              </td><td>  2              </td><td>0.06             </td><td>240              </td><td>1                </td><td> 246             </td><td>0                </td><td> 56              </td><td>0                </td><td>  8              </td><td>0                </td></tr>\n",
       "\t<tr><th scope=row>11</th><td>BC4UMI1          </td><td>TTTTGGATGGCA     </td><td>CCCTGGAG         </td><td>4                </td><td>1                </td><td>2164             </td><td>TRBV7-9          </td><td>TRBJ1-4          </td><td>                 </td><td>CASSLLRTGGLRVKLFF</td><td>...              </td><td>753              </td><td>0.97             </td><td>998              </td><td>0                </td><td>1000             </td><td>1                </td><td>789              </td><td>0                </td><td>  1              </td><td>0                </td></tr>\n",
       "</tbody>\n",
       "</table>\n"
      ],
      "text/latex": [
       "\\begin{tabular}{r|llllllllllllllllllllllllll}\n",
       "  & UMI\\_Name & BC & UMI & BCNum & UMINum & nReads & TopVregion & TopJregion & TopJ\\_5UTR & CDR3 & ... & CDR3ReadCount & CDR3Freq & TRBV & TRBJ.5UTR & TRBJ & TRBC & TRAV & TRAJ.5UTR & TRAJ & TRAC\\\\\n",
       "\\hline\n",
       "\t4 & BC1UMI4           & ATCCGAAGGTTG      & CCAAGCCT          & 1                 & 4                 &   22              & TRAV13-1          & TRAJ39            &                   & CAAQ*CRQHAHL      & ...               &  22               & 1.00              &  21               & 0                 &    0              & 0                 &  22               & 0                 &  22               & 0                \\\\\n",
       "\t5 & BC2UMI1           & CCAACTGCCGAC      & GCAGAAGC          & 2                 & 1                 & 1064              & TRBV7-9           & TRBJ1-2           & TRBJ2-6\\_5UTR    & CASSAGSDGRVYTFG   & ...               & 721               & 0.98              & 993               & 2                 & 1000              & 1                 & 775               & 0                 &   9               & 0                \\\\\n",
       "\t8 & BC3UMI1           & ATACCAGAAGAT      & CATCATAA          & 3                 & 1                 & 2352              & TRBV28            & TRBJ1-5           &                   & CAILRELGQPQHF     & ...               & 935               & 0.99              & 998               & 0                 &  999              & 0                 &  23               & 0                 &   2               & 0                \\\\\n",
       "\t9 & BC3UMI2           & ATACCAGAAGAT      & TGGGGCAA          & 3                 & 2                 & 1008              & TRAV12-1          & TRAJ3             & TRAJ10\\_5UTR     & CVVSGYSSASKIIF    & ...               & 643               & 0.92              & 110               & 0                 &    1              & 0                 & 998               & 1                 & 993               & 0                \\\\\n",
       "\t10 & BC3UMI3           & ATACCAGAAGAT      & AAGACCGG          & 3                 & 3                 &  246              & TRBV7-2           & TRBJ2-7           & TRBJ2-6\\_5UTR    & CASSFTSGYEQYF     & ...               &   2               & 0.06              & 240               & 1                 &  246              & 0                 &  56               & 0                 &   8               & 0                \\\\\n",
       "\t11 & BC4UMI1           & TTTTGGATGGCA      & CCCTGGAG          & 4                 & 1                 & 2164              & TRBV7-9           & TRBJ1-4           &                   & CASSLLRTGGLRVKLFF & ...               & 753               & 0.97              & 998               & 0                 & 1000              & 1                 & 789               & 0                 &   1               & 0                \\\\\n",
       "\\end{tabular}\n"
      ],
      "text/markdown": [
       "\n",
       "| <!--/--> | UMI_Name | BC | UMI | BCNum | UMINum | nReads | TopVregion | TopJregion | TopJ_5UTR | CDR3 | ... | CDR3ReadCount | CDR3Freq | TRBV | TRBJ.5UTR | TRBJ | TRBC | TRAV | TRAJ.5UTR | TRAJ | TRAC | \n",
       "|---|---|---|---|---|---|\n",
       "| 4 | BC1UMI4           | ATCCGAAGGTTG      | CCAAGCCT          | 1                 | 4                 |   22              | TRAV13-1          | TRAJ39            |                   | CAAQ*CRQHAHL      | ...               |  22               | 1.00              |  21               | 0                 |    0              | 0                 |  22               | 0                 |  22               | 0                 | \n",
       "| 5 | BC2UMI1           | CCAACTGCCGAC      | GCAGAAGC          | 2                 | 1                 | 1064              | TRBV7-9           | TRBJ1-2           | TRBJ2-6_5UTR      | CASSAGSDGRVYTFG   | ...               | 721               | 0.98              | 993               | 2                 | 1000              | 1                 | 775               | 0                 |   9               | 0                 | \n",
       "| 8 | BC3UMI1           | ATACCAGAAGAT      | CATCATAA          | 3                 | 1                 | 2352              | TRBV28            | TRBJ1-5           |                   | CAILRELGQPQHF     | ...               | 935               | 0.99              | 998               | 0                 |  999              | 0                 |  23               | 0                 |   2               | 0                 | \n",
       "| 9 | BC3UMI2           | ATACCAGAAGAT      | TGGGGCAA          | 3                 | 2                 | 1008              | TRAV12-1          | TRAJ3             | TRAJ10_5UTR       | CVVSGYSSASKIIF    | ...               | 643               | 0.92              | 110               | 0                 |    1              | 0                 | 998               | 1                 | 993               | 0                 | \n",
       "| 10 | BC3UMI3           | ATACCAGAAGAT      | AAGACCGG          | 3                 | 3                 |  246              | TRBV7-2           | TRBJ2-7           | TRBJ2-6_5UTR      | CASSFTSGYEQYF     | ...               |   2               | 0.06              | 240               | 1                 |  246              | 0                 |  56               | 0                 |   8               | 0                 | \n",
       "| 11 | BC4UMI1           | TTTTGGATGGCA      | CCCTGGAG          | 4                 | 1                 | 2164              | TRBV7-9           | TRBJ1-4           |                   | CASSLLRTGGLRVKLFF | ...               | 753               | 0.97              | 998               | 0                 | 1000              | 1                 | 789               | 0                 |   1               | 0                 | \n",
       "\n",
       "\n"
      ],
      "text/plain": [
       "   UMI_Name BC           UMI      BCNum UMINum nReads TopVregion TopJregion\n",
       "4  BC1UMI4  ATCCGAAGGTTG CCAAGCCT 1     4        22   TRAV13-1   TRAJ39    \n",
       "5  BC2UMI1  CCAACTGCCGAC GCAGAAGC 2     1      1064   TRBV7-9    TRBJ1-2   \n",
       "8  BC3UMI1  ATACCAGAAGAT CATCATAA 3     1      2352   TRBV28     TRBJ1-5   \n",
       "9  BC3UMI2  ATACCAGAAGAT TGGGGCAA 3     2      1008   TRAV12-1   TRAJ3     \n",
       "10 BC3UMI3  ATACCAGAAGAT AAGACCGG 3     3       246   TRBV7-2    TRBJ2-7   \n",
       "11 BC4UMI1  TTTTGGATGGCA CCCTGGAG 4     1      2164   TRBV7-9    TRBJ1-4   \n",
       "   TopJ_5UTR    CDR3              ... CDR3ReadCount CDR3Freq TRBV TRBJ.5UTR\n",
       "4               CAAQ*CRQHAHL      ...  22           1.00      21  0        \n",
       "5  TRBJ2-6_5UTR CASSAGSDGRVYTFG   ... 721           0.98     993  2        \n",
       "8               CAILRELGQPQHF     ... 935           0.99     998  0        \n",
       "9  TRAJ10_5UTR  CVVSGYSSASKIIF    ... 643           0.92     110  0        \n",
       "10 TRBJ2-6_5UTR CASSFTSGYEQYF     ...   2           0.06     240  1        \n",
       "11              CASSLLRTGGLRVKLFF ... 753           0.97     998  0        \n",
       "   TRBJ TRBC TRAV TRAJ.5UTR TRAJ TRAC\n",
       "4     0 0     22  0          22  0   \n",
       "5  1000 1    775  0           9  0   \n",
       "8   999 0     23  0           2  0   \n",
       "9     1 0    998  1         993  0   \n",
       "10  246 0     56  0           8  0   \n",
       "11 1000 1    789  0           1  0   "
      ]
     },
     "metadata": {},
     "output_type": "display_data"
    }
   ],
   "source": [
    "df = read.csv('tcrA.txt', sep = '\\t', header = 1, stringsAsFactors = FALSE)\n",
    "df = df[df$CDR3 != '',]\n",
    "dim(df)\n",
    "df2 = read.csv('tcrB.txt', sep = '\\t', header = 1, stringsAsFactors = FALSE)\n",
    "df2 = df2[df2$CDR3 != '',]\n",
    "dim(df2)\n",
    "df3 = read.csv('tcrC.txt', sep = '\\t', header = 1, stringsAsFactors = FALSE)\n",
    "df3 = df3[df3$CDR3 != '',]\n",
    "dim(df3)\n",
    "\n",
    "df4 = read.csv('tcrD.txt', sep = '\\t', header = 1, stringsAsFactors = FALSE)\n",
    "df4 = df4[df4$CDR3 != '',]\n",
    "dim(df4) \n",
    "\n",
    "df = rbind(df, df2, df3, df4)\n",
    "\n",
    "dim(df)\n",
    "head(df)"
   ]
  },
  {
   "cell_type": "code",
   "execution_count": 50,
   "metadata": {},
   "outputs": [
    {
     "data": {
      "text/html": [
       "<table>\n",
       "<thead><tr><th scope=col>BC</th><th scope=col>UMI</th><th scope=col>CDR3</th><th scope=col>nReads</th><th scope=col>TopVFreq</th><th scope=col>CDR3Freq</th><th scope=col>CDR3nuc</th><th scope=col>TopVregion</th></tr></thead>\n",
       "<tbody>\n",
       "\t<tr><td>AATTATAAGGCC                                       </td><td>ATGCGGCC                                           </td><td>CASSPRLGRGSTDTQYF                                  </td><td>294                                                </td><td>0.99                                               </td><td>0.98                                               </td><td>TGTGCCAGCAGCCCCCGTTTGGGGCGGGGGAGCACAGATACGCAGTATTTT</td><td>TRBV11-2                                           </td></tr>\n",
       "</tbody>\n",
       "</table>\n"
      ],
      "text/latex": [
       "\\begin{tabular}{r|llllllll}\n",
       " BC & UMI & CDR3 & nReads & TopVFreq & CDR3Freq & CDR3nuc & TopVregion\\\\\n",
       "\\hline\n",
       "\t AATTATAAGGCC                                        & ATGCGGCC                                            & CASSPRLGRGSTDTQYF                                   & 294                                                 & 0.99                                                & 0.98                                                & TGTGCCAGCAGCCCCCGTTTGGGGCGGGGGAGCACAGATACGCAGTATTTT & TRBV11-2                                           \\\\\n",
       "\\end{tabular}\n"
      ],
      "text/markdown": [
       "\n",
       "BC | UMI | CDR3 | nReads | TopVFreq | CDR3Freq | CDR3nuc | TopVregion | \n",
       "|---|\n",
       "| AATTATAAGGCC                                        | ATGCGGCC                                            | CASSPRLGRGSTDTQYF                                   | 294                                                 | 0.99                                                | 0.98                                                | TGTGCCAGCAGCCCCCGTTTGGGGCGGGGGAGCACAGATACGCAGTATTTT | TRBV11-2                                            | \n",
       "\n",
       "\n"
      ],
      "text/plain": [
       "  BC           UMI      CDR3              nReads TopVFreq CDR3Freq\n",
       "1 AATTATAAGGCC ATGCGGCC CASSPRLGRGSTDTQYF 294    0.99     0.98    \n",
       "  CDR3nuc                                             TopVregion\n",
       "1 TGTGCCAGCAGCCCCCGTTTGGGGCGGGGGAGCACAGATACGCAGTATTTT TRBV11-2  "
      ]
     },
     "metadata": {},
     "output_type": "display_data"
    },
    {
     "data": {
      "text/html": [
       "<table>\n",
       "<thead><tr><th scope=col>BC</th><th scope=col>UMI</th><th scope=col>CDR3</th><th scope=col>nReads</th><th scope=col>TopVFreq</th><th scope=col>CDR3Freq</th><th scope=col>CDR3nuc</th><th scope=col>TopVregion</th></tr></thead>\n",
       "<tbody>\n",
       "\t<tr><td>GTGGGTAAGTGT                                       </td><td>TGCGCACG                                           </td><td>CASSPRLGRGGTDTQYF                                  </td><td>  14                                               </td><td>0.93                                               </td><td>1.00                                               </td><td>TGTGCCAGCAGCCCCCGTTTGGGGCGGGGGGGCACAGATACGCAGTATTTT</td><td>TRBV11-2                                           </td></tr>\n",
       "\t<tr><td>AAGGCATATGTG                                       </td><td>GCGACACC                                           </td><td>CASSPRLGRGGTDTQYF                                  </td><td> 803                                               </td><td>0.99                                               </td><td>0.96                                               </td><td>TGTGCCAGCAGCCCCCGTTTGGGGCGGGGGGGCACAGATACGCAGTATTTT</td><td>TRBV11-2                                           </td></tr>\n",
       "\t<tr><td>TCATGTACCCGC                                       </td><td>TCCAAGCT                                           </td><td>CASSPRLGRGGTDTQYF                                  </td><td>  15                                               </td><td>1.00                                               </td><td>1.00                                               </td><td>TGTGCCAGCAGCCCCCGTTTGGGGCGGGGGGGCACAGATACGCAGTATTTT</td><td>TRBV11-2                                           </td></tr>\n",
       "\t<tr><td>TCATGTACCGTC                                       </td><td>TCCAAGCT                                           </td><td>CASSPRLGRGGTDTQYF                                  </td><td> 633                                               </td><td>1.00                                               </td><td>0.11                                               </td><td>TGTGCCAGCAGCCCCCGTTTGGGGCGGGGGGGCACAGATACGCAGTATTTT</td><td>TRBV11-2                                           </td></tr>\n",
       "\t<tr><td>TCATGTACCGTC                                       </td><td>CAACTAGG                                           </td><td>CASSPRLGRGGTDTQYF                                  </td><td>  29                                               </td><td>1.00                                               </td><td>1.00                                               </td><td>TGTGCCAGCAGCCCCCGTTTGGGGCGGGGGGGCACAGATACGCAGTATTTT</td><td>TRBV11-2                                           </td></tr>\n",
       "\t<tr><td>GTAGTTAAGTGT                                       </td><td>TGCGCACG                                           </td><td>CASSPRLGRGGTDTQYF                                  </td><td>1871                                               </td><td>1.00                                               </td><td>0.98                                               </td><td>TGTGCCAGCAGCCCCCGTTTGGGGCGGGGGGGCACAGATACGCAGTATTTT</td><td>TRBV11-2                                           </td></tr>\n",
       "\t<tr><td>GTAGGAAAGTGT                                       </td><td>TGCGCACG                                           </td><td>CASSPRLGRGGTDTQYF                                  </td><td>  14                                               </td><td>0.93                                               </td><td>1.00                                               </td><td>TGTGCCAGCAGCCCCCGTTTGGGGCGGGGGGGCACAGATACGCAGTATTTT</td><td>TRBV11-2                                           </td></tr>\n",
       "</tbody>\n",
       "</table>\n"
      ],
      "text/latex": [
       "\\begin{tabular}{r|llllllll}\n",
       " BC & UMI & CDR3 & nReads & TopVFreq & CDR3Freq & CDR3nuc & TopVregion\\\\\n",
       "\\hline\n",
       "\t GTGGGTAAGTGT                                        & TGCGCACG                                            & CASSPRLGRGGTDTQYF                                   &   14                                                & 0.93                                                & 1.00                                                & TGTGCCAGCAGCCCCCGTTTGGGGCGGGGGGGCACAGATACGCAGTATTTT & TRBV11-2                                           \\\\\n",
       "\t AAGGCATATGTG                                        & GCGACACC                                            & CASSPRLGRGGTDTQYF                                   &  803                                                & 0.99                                                & 0.96                                                & TGTGCCAGCAGCCCCCGTTTGGGGCGGGGGGGCACAGATACGCAGTATTTT & TRBV11-2                                           \\\\\n",
       "\t TCATGTACCCGC                                        & TCCAAGCT                                            & CASSPRLGRGGTDTQYF                                   &   15                                                & 1.00                                                & 1.00                                                & TGTGCCAGCAGCCCCCGTTTGGGGCGGGGGGGCACAGATACGCAGTATTTT & TRBV11-2                                           \\\\\n",
       "\t TCATGTACCGTC                                        & TCCAAGCT                                            & CASSPRLGRGGTDTQYF                                   &  633                                                & 1.00                                                & 0.11                                                & TGTGCCAGCAGCCCCCGTTTGGGGCGGGGGGGCACAGATACGCAGTATTTT & TRBV11-2                                           \\\\\n",
       "\t TCATGTACCGTC                                        & CAACTAGG                                            & CASSPRLGRGGTDTQYF                                   &   29                                                & 1.00                                                & 1.00                                                & TGTGCCAGCAGCCCCCGTTTGGGGCGGGGGGGCACAGATACGCAGTATTTT & TRBV11-2                                           \\\\\n",
       "\t GTAGTTAAGTGT                                        & TGCGCACG                                            & CASSPRLGRGGTDTQYF                                   & 1871                                                & 1.00                                                & 0.98                                                & TGTGCCAGCAGCCCCCGTTTGGGGCGGGGGGGCACAGATACGCAGTATTTT & TRBV11-2                                           \\\\\n",
       "\t GTAGGAAAGTGT                                        & TGCGCACG                                            & CASSPRLGRGGTDTQYF                                   &   14                                                & 0.93                                                & 1.00                                                & TGTGCCAGCAGCCCCCGTTTGGGGCGGGGGGGCACAGATACGCAGTATTTT & TRBV11-2                                           \\\\\n",
       "\\end{tabular}\n"
      ],
      "text/markdown": [
       "\n",
       "BC | UMI | CDR3 | nReads | TopVFreq | CDR3Freq | CDR3nuc | TopVregion | \n",
       "|---|---|---|---|---|---|---|\n",
       "| GTGGGTAAGTGT                                        | TGCGCACG                                            | CASSPRLGRGGTDTQYF                                   |   14                                                | 0.93                                                | 1.00                                                | TGTGCCAGCAGCCCCCGTTTGGGGCGGGGGGGCACAGATACGCAGTATTTT | TRBV11-2                                            | \n",
       "| AAGGCATATGTG                                        | GCGACACC                                            | CASSPRLGRGGTDTQYF                                   |  803                                                | 0.99                                                | 0.96                                                | TGTGCCAGCAGCCCCCGTTTGGGGCGGGGGGGCACAGATACGCAGTATTTT | TRBV11-2                                            | \n",
       "| TCATGTACCCGC                                        | TCCAAGCT                                            | CASSPRLGRGGTDTQYF                                   |   15                                                | 1.00                                                | 1.00                                                | TGTGCCAGCAGCCCCCGTTTGGGGCGGGGGGGCACAGATACGCAGTATTTT | TRBV11-2                                            | \n",
       "| TCATGTACCGTC                                        | TCCAAGCT                                            | CASSPRLGRGGTDTQYF                                   |  633                                                | 1.00                                                | 0.11                                                | TGTGCCAGCAGCCCCCGTTTGGGGCGGGGGGGCACAGATACGCAGTATTTT | TRBV11-2                                            | \n",
       "| TCATGTACCGTC                                        | CAACTAGG                                            | CASSPRLGRGGTDTQYF                                   |   29                                                | 1.00                                                | 1.00                                                | TGTGCCAGCAGCCCCCGTTTGGGGCGGGGGGGCACAGATACGCAGTATTTT | TRBV11-2                                            | \n",
       "| GTAGTTAAGTGT                                        | TGCGCACG                                            | CASSPRLGRGGTDTQYF                                   | 1871                                                | 1.00                                                | 0.98                                                | TGTGCCAGCAGCCCCCGTTTGGGGCGGGGGGGCACAGATACGCAGTATTTT | TRBV11-2                                            | \n",
       "| GTAGGAAAGTGT                                        | TGCGCACG                                            | CASSPRLGRGGTDTQYF                                   |   14                                                | 0.93                                                | 1.00                                                | TGTGCCAGCAGCCCCCGTTTGGGGCGGGGGGGCACAGATACGCAGTATTTT | TRBV11-2                                            | \n",
       "\n",
       "\n"
      ],
      "text/plain": [
       "  BC           UMI      CDR3              nReads TopVFreq CDR3Freq\n",
       "1 GTGGGTAAGTGT TGCGCACG CASSPRLGRGGTDTQYF   14   0.93     1.00    \n",
       "2 AAGGCATATGTG GCGACACC CASSPRLGRGGTDTQYF  803   0.99     0.96    \n",
       "3 TCATGTACCCGC TCCAAGCT CASSPRLGRGGTDTQYF   15   1.00     1.00    \n",
       "4 TCATGTACCGTC TCCAAGCT CASSPRLGRGGTDTQYF  633   1.00     0.11    \n",
       "5 TCATGTACCGTC CAACTAGG CASSPRLGRGGTDTQYF   29   1.00     1.00    \n",
       "6 GTAGTTAAGTGT TGCGCACG CASSPRLGRGGTDTQYF 1871   1.00     0.98    \n",
       "7 GTAGGAAAGTGT TGCGCACG CASSPRLGRGGTDTQYF   14   0.93     1.00    \n",
       "  CDR3nuc                                             TopVregion\n",
       "1 TGTGCCAGCAGCCCCCGTTTGGGGCGGGGGGGCACAGATACGCAGTATTTT TRBV11-2  \n",
       "2 TGTGCCAGCAGCCCCCGTTTGGGGCGGGGGGGCACAGATACGCAGTATTTT TRBV11-2  \n",
       "3 TGTGCCAGCAGCCCCCGTTTGGGGCGGGGGGGCACAGATACGCAGTATTTT TRBV11-2  \n",
       "4 TGTGCCAGCAGCCCCCGTTTGGGGCGGGGGGGCACAGATACGCAGTATTTT TRBV11-2  \n",
       "5 TGTGCCAGCAGCCCCCGTTTGGGGCGGGGGGGCACAGATACGCAGTATTTT TRBV11-2  \n",
       "6 TGTGCCAGCAGCCCCCGTTTGGGGCGGGGGGGCACAGATACGCAGTATTTT TRBV11-2  \n",
       "7 TGTGCCAGCAGCCCCCGTTTGGGGCGGGGGGGCACAGATACGCAGTATTTT TRBV11-2  "
      ]
     },
     "metadata": {},
     "output_type": "display_data"
    }
   ],
   "source": [
    "df %>% filter(CDR3 == 'CASSPRLGRGSTDTQYF') %>% select(BC, UMI, CDR3, nReads, TopVFreq, CDR3Freq, CDR3nuc, TopVregion)\n",
    "df %>% filter(CDR3 == 'CASSPRLGRGGTDTQYF') %>% select(BC, UMI, CDR3, nReads, TopVFreq, CDR3Freq, CDR3nuc, TopVregion)"
   ]
  },
  {
   "cell_type": "code",
   "execution_count": 42,
   "metadata": {},
   "outputs": [
    {
     "data": {
      "text/plain": [
       "\n",
       "      CASSFTSGYEQYF       CASSLASDYEQYF      CASSGIRGRGELFF CASTVNWLAGAMGTGELFF \n",
       "                970                 617                 267                 229 \n",
       "   CASSLVLAGGTYEQYF     CASSSRKENQGAQYF \n",
       "                165                 153 "
      ]
     },
     "metadata": {},
     "output_type": "display_data"
    }
   ],
   "source": [
    "tab = table(df$CDR3)\n",
    "tab = tab[order(tab, decreasing = TRUE)]\n",
    "head(tab)"
   ]
  },
  {
   "cell_type": "code",
   "execution_count": 32,
   "metadata": {},
   "outputs": [
    {
     "data": {
      "text/html": [
       "16465"
      ],
      "text/latex": [
       "16465"
      ],
      "text/markdown": [
       "16465"
      ],
      "text/plain": [
       "[1] 16465"
      ]
     },
     "metadata": {},
     "output_type": "display_data"
    }
   ],
   "source": [
    "df$umi = paste0(df$BC, df$UMI)\n",
    "df$id = rownames(df)\n",
    "cdrs = unique(df$CDR3)\n",
    "length(cdrs)\n"
   ]
  },
  {
   "cell_type": "code",
   "execution_count": 34,
   "metadata": {},
   "outputs": [
    {
     "name": "stderr",
     "output_type": "stream",
     "text": [
      "0\n",
      "1000\n",
      "2000\n",
      "3000\n",
      "4000\n",
      "5000\n",
      "6000\n",
      "7000\n",
      "8000\n",
      "9000\n",
      "10000\n",
      "11000\n",
      "12000\n",
      "13000\n",
      "14000\n",
      "15000\n",
      "16000\n"
     ]
    }
   ],
   "source": [
    "library(dplyr)\n",
    "library(stringdist)\n",
    "i = 0\n",
    "collisions = c()\n",
    "df$BC = as.character(df$BC)\n",
    "cdrs = unique(df$CDR3)\n",
    "for (curr in cdrs) {\n",
    "    if (i %% 1000 == 0) {\n",
    "        message(i)\n",
    "    }\n",
    "    sub = df %>% filter(CDR3 == curr)\n",
    "    umi = sub$UMI\n",
    "    if (dim(sub)[1] > 1) {\n",
    "        if (length(umi) > 1) {\n",
    "            badumi = umi[duplicated(umi)]\n",
    "            for (curr_bad in badumi) {\n",
    "                relevant_bc = sub$BC[sub$UMI == curr_bad]\n",
    "                curr_data = sub %>% filter(BC %in% relevant_bc)\n",
    "                curr_data =  curr_data %>% group_by(BC) %>% summarize(nUMI = n(), nReads = sum(nReads)) %>% arrange(desc(nUMI), desc(nReads))\n",
    "                bad = curr_data$BC[-1]\n",
    "                bad = paste0(bad, curr_bad)\n",
    "                bad\n",
    "                collisions= c(collisions, bad)\n",
    "            }\n",
    "        }\n",
    "\n",
    "    }\n",
    "            i = i+ 1\n",
    "\n",
    "}\n"
   ]
  },
  {
   "cell_type": "code",
   "execution_count": 35,
   "metadata": {},
   "outputs": [
    {
     "data": {
      "text/html": [
       "<ol class=list-inline>\n",
       "\t<li>32497</li>\n",
       "\t<li>28</li>\n",
       "</ol>\n"
      ],
      "text/latex": [
       "\\begin{enumerate*}\n",
       "\\item 32497\n",
       "\\item 28\n",
       "\\end{enumerate*}\n"
      ],
      "text/markdown": [
       "1. 32497\n",
       "2. 28\n",
       "\n",
       "\n"
      ],
      "text/plain": [
       "[1] 32497    28"
      ]
     },
     "metadata": {},
     "output_type": "display_data"
    }
   ],
   "source": [
    "keep = df %>% filter(!umi%in%collisions)\n",
    "dim(keep)\n",
    "write.table(keep, 'umi_repaired.txt', col.names = TRUE, row.names = FALSE, sep= '\\t')"
   ]
  }
 ],
 "metadata": {
  "kernelspec": {
   "display_name": "R 3.5.1",
   "language": "R",
   "name": "ir32"
  },
  "language_info": {
   "codemirror_mode": "r",
   "file_extension": ".r",
   "mimetype": "text/x-r-source",
   "name": "R",
   "pygments_lexer": "r",
   "version": "3.5.1"
  }
 },
 "nbformat": 4,
 "nbformat_minor": 2
}
