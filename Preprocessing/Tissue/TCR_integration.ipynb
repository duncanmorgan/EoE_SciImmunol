{
 "cells": [
  {
   "cell_type": "code",
   "execution_count": 1,
   "metadata": {},
   "outputs": [
    {
     "name": "stderr",
     "output_type": "stream",
     "text": [
      "Loading required package: ggplot2\n",
      "Warning message:\n",
      "\"package 'ggplot2' was built under R version 3.5.3\"Loading required package: cowplot\n",
      "Warning message:\n",
      "\"package 'cowplot' was built under R version 3.5.3\"\n",
      "********************************************************\n",
      "Note: As of version 1.0.0, cowplot does not change the\n",
      "  default ggplot2 theme anymore. To recover the previous\n",
      "  behavior, execute:\n",
      "  theme_set(theme_cowplot())\n",
      "********************************************************\n",
      "\n",
      "Loading required package: Matrix\n",
      "Warning message:\n",
      "\"package 'feather' was built under R version 3.5.3\"Warning message:\n",
      "\"package 'dplyr' was built under R version 3.5.3\"\n",
      "Attaching package: 'dplyr'\n",
      "\n",
      "The following objects are masked from 'package:stats':\n",
      "\n",
      "    filter, lag\n",
      "\n",
      "The following objects are masked from 'package:base':\n",
      "\n",
      "    intersect, setdiff, setequal, union\n",
      "\n",
      "Loading required package: viridisLite\n",
      "Warning message:\n",
      "\"package 'tidyr' was built under R version 3.5.3\"\n",
      "Attaching package: 'tidyr'\n",
      "\n",
      "The following object is masked from 'package:reshape2':\n",
      "\n",
      "    smiths\n",
      "\n",
      "The following objects are masked from 'package:Matrix':\n",
      "\n",
      "    expand, pack, unpack\n",
      "\n",
      "Warning message:\n",
      "\"package 'pheatmap' was built under R version 3.5.3\"\n",
      "Attaching package: 'ggthemes'\n",
      "\n",
      "The following object is masked from 'package:cowplot':\n",
      "\n",
      "    theme_map\n",
      "\n"
     ]
    },
    {
     "data": {
      "text/plain": [
       "An object of class seurat in project SeuratProject \n",
       " 26540 genes across 7523 samples."
      ]
     },
     "metadata": {},
     "output_type": "display_data"
    }
   ],
   "source": [
    "source('../../functions.R')\n",
    "tcelle = readRDS('Data/tcell_e.RDS')\n",
    "tcelld = readRDS('Data/tcell_d.RDS')\n",
    "umi_seurat = MergeSeurat(tcelle, tcelld)\n",
    "umi_seurat = SubsetData(umi_seurat, umi_seurat@cell.names[!umi_seurat@meta.data$plot_cluster %in% c('D3' ,'D4', 'D6', 'E4')])\n",
    "\n",
    "BCSeq = umi_seurat@meta.data$bcs\n",
    "umi_seurat"
   ]
  },
  {
   "cell_type": "code",
   "execution_count": 2,
   "metadata": {},
   "outputs": [
    {
     "data": {
      "text/plain": [
       "\n",
       "D_Th17 D_Treg  D_Trm  peTh2   Th17   Treg    Trm \n",
       "  1791    106   1590    236    347    486   2967 "
      ]
     },
     "metadata": {},
     "output_type": "display_data"
    }
   ],
   "source": [
    "table(umi_seurat@meta.data$pheno)"
   ]
  },
  {
   "cell_type": "code",
   "execution_count": 3,
   "metadata": {},
   "outputs": [
    {
     "name": "stderr",
     "output_type": "stream",
     "text": [
      "-- Attaching packages --------------------------------------- tidyverse 1.2.1 --\n",
      "v tibble  3.0.0     v purrr   0.3.3\n",
      "v readr   1.3.1     v stringr 1.4.0\n",
      "v tibble  3.0.0     v forcats 0.3.0\n",
      "Warning message:\n",
      "\"package 'tibble' was built under R version 3.5.3\"Warning message:\n",
      "\"package 'readr' was built under R version 3.5.2\"Warning message:\n",
      "\"package 'purrr' was built under R version 3.5.3\"Warning message:\n",
      "\"package 'stringr' was built under R version 3.5.3\"-- Conflicts ------------------------------------------ tidyverse_conflicts() --\n",
      "x tidyr::expand() masks Matrix::expand()\n",
      "x dplyr::filter() masks stats::filter()\n",
      "x dplyr::lag()    masks stats::lag()\n",
      "x tidyr::pack()   masks Matrix::pack()\n",
      "x tidyr::unpack() masks Matrix::unpack()\n"
     ]
    }
   ],
   "source": [
    "\n",
    "# Load Packages and set Common Parameters ---------------------------------\n",
    "library(Seurat)\n",
    "library(tidyverse)\n",
    "library(viridis)\n",
    "library(RColorBrewer)\n",
    "\n",
    "cbPalette <- c(\"gray87\", \"#E69F00\", \"#56B4E9\", \"#009E73\", \"#F0E442\", \"#0072B2\", \"#D55E00\", \"#CC79A7\")\n",
    "\n",
    "# Functions ---------------------------------------------------------------\n",
    "\n",
    "TSNE_xy <- function(seurat) {\n",
    "  seurat@meta.data$Tsne.x <- seurat@dr$tsne@cell.embeddings[,1]\n",
    "  seurat@meta.data$Tsne.y <- seurat@dr$tsne@cell.embeddings[,2]\n",
    "  return(seurat)\n",
    "}\n",
    "\n",
    "UMAP_xy <- function(seurat) {\n",
    "  seurat@meta.data$UMAP.x <- seurat@dr$umap@cell.embeddings[,1]\n",
    "  seurat@meta.data$UMAP.y <- seurat@dr$umap@cell.embeddings[,2]\n",
    "  return(seurat)\n",
    "}\n",
    "\n",
    "Add_TRAB_count <- function(seurat){\n",
    "  require(tidyverse)\n",
    "  require(viridis)\n",
    "  seurat@meta.data %>% dplyr::count(TRB_CDR3) %>% \n",
    "    filter(!is.na(TRB_CDR3)) %>% arrange(desc(n)) -> seurat_CDR3B_count\n",
    "  colnames(seurat_CDR3B_count) <- c(\"TRB_CDR3\",\"clones\")\n",
    "  seurat@meta.data %>% dplyr::count(TRA_CDR3) %>% \n",
    "    filter(!is.na(TRA_CDR3)) %>% arrange(desc(n)) -> seurat_CDR3A_count\n",
    "  colnames(seurat_CDR3A_count) <- c(\"TRA_CDR3\",\"clones\")\n",
    "  \n",
    "  left_join(seurat@meta.data, seurat_CDR3B_count, by = \"TRB_CDR3\") %>% .$clones -> seurat@meta.data$TRB_count\n",
    "  str(seurat@meta.data$TRB_count)\n",
    "  \n",
    "  ggplot(seurat@meta.data, aes(x = UMAP.x, y = UMAP.y, color = TRB_count)) + \n",
    "    geom_point() + scale_color_viridis(direction = -1, na.value = \"grey87\")\n",
    "  \n",
    "  left_join(seurat@meta.data, seurat_CDR3A_count, by = \"TRA_CDR3\") %>% .$clones -> seurat@meta.data$TRA_count\n",
    "  str(seurat@meta.data$TRA_count)\n",
    "  \n",
    "  ggplot(seurat@meta.data, aes(x = UMAP.x, y = UMAP.y, color = TRA_count)) + \n",
    "    geom_point() + scale_color_viridis(direction = -1, na.value = \"grey87\")\n",
    "  \n",
    "  return(seurat)\n",
    "}\n"
   ]
  },
  {
   "cell_type": "code",
   "execution_count": 4,
   "metadata": {},
   "outputs": [
    {
     "name": "stderr",
     "output_type": "stream",
     "text": [
      "Parsed with column specification:\n",
      "cols(\n",
      "  .default = col_double(),\n",
      "  UMI_Name = col_character(),\n",
      "  BC = col_character(),\n",
      "  UMI = col_character(),\n",
      "  TopVregion = col_character(),\n",
      "  TopJregion = col_character(),\n",
      "  TopJ_5UTR = col_character(),\n",
      "  CDR3 = col_character(),\n",
      "  CDR3nuc = col_character(),\n",
      "  umi = col_character()\n",
      ")\n",
      "See spec(...) for full column specifications.\n"
     ]
    }
   ],
   "source": [
    "# Loading files -----------------------------------------------------------\n",
    "file = 'Preprocessing/Tissue/umi_collision.txt'\n",
    "\n",
    "# require V-gene consensus > 0.8\n",
    "TCR_df <- bind_rows(lapply(file, read_tsv)) %>% filter(CDR3Freq > .8)\n",
    "\n",
    "# Clean & Format ----------------------------------------------------------\n",
    "#Then let's clean cast some variable into usable formats\n",
    "TCR_df <- TCR_df %>% mutate(TopVregion = factor(TopVregion), TopJregion = factor(TopJregion))\n",
    "#Clean the TCR from umi that gave no CDR3. then orders first by BC, then by nReads within each BC\n",
    "TCR_df_cleaned <- TCR_df %>% filter(!is.na(CDR3)) %>% arrange(BC, desc(nReads))\n",
    "\n",
    "#I think there are still several things to do. One is to quantify how many UMI each CDR3 has,\n",
    "#and then sort the files by UMI, then by reads.\n",
    "\n",
    "#here we create a second df that records (BC,CDR3) combination and their respective UMI_count\n",
    "#The unique argument is key here. It prevent double countings\n",
    "TCR_df_cleaned_UMI_count <- TCR_df_cleaned %>% count(BC, CDR3) %>% rename(UMI_count = n)\n",
    "\n",
    "#then we make merge the two, grouped by Barcode and CDR3\n",
    "TCR_df_cleaned<-left_join(TCR_df_cleaned, TCR_df_cleaned_UMI_count, by = c('BC','CDR3')) #%>% arrange(BC, desc(UMI_count),desc(nReads))\n",
    "\n",
    "#re-order a little bit for readability\n",
    "TCR_df_cleaned<- TCR_df_cleaned %>% select(UMI_Name,BC,UMI,UMI_count,nReads,everything())\n",
    "\n",
    "#then re-order the rows again just to make sure the top UMI_count/nReads results are at the top of each \n",
    "#cell barcode group.\n",
    "TCR_df_cleaned<- TCR_df_cleaned[with(TCR_df_cleaned,order(BC,UMI_count,nReads,decreasing=TRUE)),]\n",
    "\n",
    "#Separate df into alpha and beta chain into two dataframes\n",
    "\n",
    "TRA_df <- TCR_df_cleaned %>% filter(str_detect(TopVregion, \"^TRAV\"))\n",
    "TRB_df <- TCR_df_cleaned %>% filter(str_detect(TopVregion, \"^TRBV\"))"
   ]
  },
  {
   "cell_type": "code",
   "execution_count": 5,
   "metadata": {},
   "outputs": [],
   "source": [
    "\n",
    "#Then we should generate masks of matching barcodes. We would probably have to do two masks\n",
    "#Note: these values are just masks that apply to (not BCseq, but) TRA/TRB_df list of values. i.e. it gives\n",
    "#indices of where in the TRA/TRB_df, do you find the correspoding rank position of the same cell (i.e. first\n",
    "#position is first cell in the BCSeqlist.)\n",
    "#BCSeq has to be the total list of barcodes for all of the cells in the Seurat object\n",
    "is.na(match(BCSeq, TRA_df$BC)) == 0 -> TRA_BC \n",
    "is.na(match(BCSeq, TRB_df$BC)) == 0 -> TRB_BC \n",
    "TRA_BC & TRB_BC ->TRAB_BC\n",
    "\n",
    "#is.na(match(BCSeq, TCR_df$BC)) == 0 -> TCR_BC\n",
    "#is.na(match(BCSeq, TCR_df_cleaned$BC)) == 0 -> TCR_cleaned_BC\n",
    "\n",
    "#here we construct the mapping necessary to look at mapping statistics \n",
    "umi_seurat@meta.data$TCR_Recovery <- \"No Recovery\"\n",
    "umi_seurat@meta.data$TCR_Recovery[c(TRB_BC)] <- \"TRB only\"\n",
    "umi_seurat@meta.data$TCR_Recovery[c(TRA_BC)] <- \"TRA only\"\n",
    "umi_seurat@meta.data$TCR_Recovery[c(TRAB_BC)] <- \"TRA and TRB\"\n",
    "\n",
    "#Once we get to here, we can do some spot checks. \n",
    "#do\n",
    "#TSNEPlot(umi_seurat, group.by = \"TCR_Recovery\", colors.use = c(cbPalette), \n",
    "# do.hover = TRUE, data.hover = \"ident\")\n",
    "#and look at specific points, and find their cell identity name\n",
    "#then do: BCSeq[match(\"cellname\",names(umi_seurat@ident))]\n",
    "#to find teh particular barcode, then we could check to see if that barcode actually exist in our TCR data\n",
    "#VlnPlot(umi_seurat,c(\"TRBC2\", \"TRAC\"), group.by = \"TCR_Recovery\")\n",
    "\n",
    "umi_seurat@meta.data$TRB_CDR3 <- \"No Recovery\"\n",
    "umi_seurat@meta.data$TRB_CDR3 <- TRB_df$CDR3[match(BCSeq,TRB_df$BC)]\n",
    "umi_seurat@meta.data$TRBV <- TRB_df$TopVregion[match(BCSeq,TRB_df$BC)]\n",
    "umi_seurat@meta.data$TRBJ<- TRB_df$TopJregion[match(BCSeq,TRB_df$BC)]\n",
    "\n",
    "\n",
    "#checked and the data seems to make sense\n",
    "#The problem here is that this only gives us one TRA, but we should look at multiple. \n",
    "\n",
    "#First we get rid of the duplicates of the TRA, because in a lot of importing of data, we are importing \n",
    "#duplicated data since the same sample could be sequenced multiple times, etc. \n",
    "\n",
    "TRA_df %>% distinct(BC,CDR3,TopVregion, .keep_all = TRUE) -> TRA_uniq_df\n",
    "\n",
    "match(BCSeq,TRA_uniq_df$BC) -> TRA1_Match\n",
    "\n",
    "umi_seurat@meta.data$TRA_CDR3 <- \"No Recovery\"\n",
    "umi_seurat@meta.data$TRA_CDR3 <- TRA_uniq_df$CDR3[TRA1_Match]\n",
    "umi_seurat@meta.data$TRAV <- TRA_uniq_df$TopVregion[TRA1_Match]\n",
    "umi_seurat@meta.data$TRAJ<- TRA_uniq_df$TopJregion[TRA1_Match]\n",
    "\n",
    "#then we remove the rows that we just assigned \n",
    "TRA1_Match_filter <- TRA1_Match[!is.na(TRA1_Match)]\n",
    "TRA2_uniq_df <- TRA_uniq_df[-TRA1_Match_filter, ]\n",
    "\n",
    "match(BCSeq,TRA2_uniq_df$BC) -> TRA2_Match\n",
    "\n",
    "umi_seurat@meta.data$TRA.2_CDR3 <- NA\n",
    "umi_seurat@meta.data$TRA.2_CDR3 <- TRA2_uniq_df$CDR3[TRA2_Match]\n",
    "umi_seurat@meta.data$TRAV.2 <- TRA2_uniq_df$TopVregion[TRA2_Match]\n",
    "umi_seurat@meta.data$TRAJ.2<- TRA2_uniq_df$TopJregion[TRA2_Match]\n"
   ]
  },
  {
   "cell_type": "code",
   "execution_count": 6,
   "metadata": {},
   "outputs": [],
   "source": [
    "# fix TRBJ1-2\n",
    "ind = which(umi_seurat@meta.data$TRBJ == 'TRBJ1-2')\n",
    "umi_seurat@meta.data$TRB_CDR3[ind] = sapply(umi_seurat@meta.data$TRB_CDR3[ind], function(x) substring(x, first = 1, last = str_length(x) -1 ))\n",
    "\n",
    "# remove nonfunctional beta sequences\n",
    "nonfunctional = grep(umi_seurat@meta.data$TRB_CDR3, fixed = TRUE, pattern = '*')\n",
    "umi_seurat@meta.data$TRB_CDR3[nonfunctional] = NA"
   ]
  },
  {
   "cell_type": "code",
   "execution_count": 7,
   "metadata": {},
   "outputs": [
    {
     "data": {},
     "metadata": {},
     "output_type": "display_data"
    },
    {
     "data": {
      "image/png": "[encoded data removed]",
      "text/plain": [
       "plot without title"
      ]
     },
     "metadata": {},
     "output_type": "display_data"
    }
   ],
   "source": [
    "umi_seurat@meta.data$tissue = factor(as.character(umi_seurat@meta.data$tissue), levels = c(\"Esophagus\", 'Duodenum'))\n",
    "ggplot(umi_seurat@meta.data %>% filter(patient != 249, !pheno %in% c('NK', 'D_Ki-67+')), aes(x = factor(patient), fill = TCR_Recovery)) + geom_bar(position = 'fill') +\n",
    "facet_wrap(~tissue)+scale_fill_manual(\"Coverage\", values = c(\"TRA only\" = cbPalette[3], \"TRB only\" = cbPalette[4], \"TRA and TRB\" = cbPalette[2], 'No Recovery' = cbPalette[1])) + remove_grid + Axis_themes +\n",
    "labs(x = 'Patient', y = 'Fraction of T cells')\n",
    "ggsave('TCRrecovery.pdf', height = 3, width = 5, useDingbats = FALSE)"
   ]
  },
  {
   "cell_type": "code",
   "execution_count": 8,
   "metadata": {},
   "outputs": [
    {
     "data": {
      "text/plain": [
       "\n",
       "No Recovery TRA and TRB    TRA only    TRB only \n",
       "       2562        1426         842        1688 "
      ]
     },
     "metadata": {},
     "output_type": "display_data"
    },
    {
     "data": {
      "text/html": [
       "6518"
      ],
      "text/latex": [
       "6518"
      ],
      "text/markdown": [
       "6518"
      ],
      "text/plain": [
       "[1] 6518"
      ]
     },
     "metadata": {},
     "output_type": "display_data"
    }
   ],
   "source": [
    "# TCR profiling was not performed on patient 249\n",
    "table(umi_seurat@meta.data$TCR_Recovery[umi_seurat@meta.data$patient != 249])\n",
    "sum(umi_seurat@meta.data$patient != 249)"
   ]
  },
  {
   "cell_type": "code",
   "execution_count": 9,
   "metadata": {},
   "outputs": [
    {
     "data": {
      "text/html": [
       "0.215096655415772"
      ],
      "text/latex": [
       "0.215096655415772"
      ],
      "text/markdown": [
       "0.215096655415772"
      ],
      "text/plain": [
       "[1] 0.2150967"
      ]
     },
     "metadata": {},
     "output_type": "display_data"
    },
    {
     "data": {
      "text/html": [
       "0.50322184719239"
      ],
      "text/latex": [
       "0.50322184719239"
      ],
      "text/markdown": [
       "0.50322184719239"
      ],
      "text/plain": [
       "[1] 0.5032218"
      ]
     },
     "metadata": {},
     "output_type": "display_data"
    },
    {
     "data": {
      "text/html": [
       "0.325866830316048"
      ],
      "text/latex": [
       "0.325866830316048"
      ],
      "text/markdown": [
       "0.325866830316048"
      ],
      "text/plain": [
       "[1] 0.3258668"
      ]
     },
     "metadata": {},
     "output_type": "display_data"
    }
   ],
   "source": [
    "(1402)/6518\n",
    "(1402+1878)/6518\n",
    "(1402+722)/6518"
   ]
  },
  {
   "cell_type": "code",
   "execution_count": 10,
   "metadata": {},
   "outputs": [],
   "source": [
    "saveRDS(umi_seurat, 'Data/tcrCDR3.RDS')"
   ]
  }
 ],
 "metadata": {
  "kernelspec": {
   "display_name": "R 3.5.1",
   "language": "R",
   "name": "ir32"
  },
  "language_info": {
   "codemirror_mode": "r",
   "file_extension": ".r",
   "mimetype": "text/x-r-source",
   "name": "R",
   "pygments_lexer": "r",
   "version": "3.5.1"
  }
 },
 "nbformat": 4,
 "nbformat_minor": 4
}
