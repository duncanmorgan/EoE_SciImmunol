{
 "cells": [
  {
   "cell_type": "code",
   "execution_count": 1,
   "metadata": {},
   "outputs": [
    {
     "data": {
      "text/html": [
       "<table>\n",
       "<thead><tr><th></th><th scope=col>UMI_Name</th><th scope=col>BC</th><th scope=col>UMI</th><th scope=col>BCNum</th><th scope=col>UMINum</th><th scope=col>nReads</th><th scope=col>TopVregion</th><th scope=col>TopJregion</th><th scope=col>TopJ_5UTR</th><th scope=col>CDR3</th><th scope=col>...</th><th scope=col>CDR3ReadCount</th><th scope=col>CDR3Freq</th><th scope=col>TRBV</th><th scope=col>TRBJ.5UTR</th><th scope=col>TRBJ</th><th scope=col>TRBC</th><th scope=col>TRAV</th><th scope=col>TRAJ.5UTR</th><th scope=col>TRAJ</th><th scope=col>TRAC</th></tr></thead>\n",
       "<tbody>\n",
       "\t<tr><th scope=row>1</th><td>BC1UMI1         </td><td>CAGACTCGTGGG    </td><td>GGCAGCCA        </td><td>1               </td><td> 1              </td><td>613             </td><td>TRBV7-2         </td><td>TRBJ2-7         </td><td>                </td><td>CASSPRRDSYEQYF  </td><td>...             </td><td>535             </td><td>0.98            </td><td>612             </td><td>0               </td><td>612             </td><td>0               </td><td>  8             </td><td>0               </td><td> 23             </td><td>0               </td></tr>\n",
       "\t<tr><th scope=row>2</th><td>BC2UMI1         </td><td>TGCATGGATTAC    </td><td>TAGAAAAA        </td><td>2               </td><td> 1              </td><td>604             </td><td>TRBV20-1        </td><td>TRBJ1-6         </td><td>TRBJ2-6_5UTR    </td><td>CSARDSGQGLNSPLHF</td><td>...             </td><td>478             </td><td>0.98            </td><td>594             </td><td>1               </td><td>598             </td><td>0               </td><td> 33             </td><td>0               </td><td>480             </td><td>0               </td></tr>\n",
       "\t<tr><th scope=row>4</th><td>BC2UMI3         </td><td>TGCATGGATTAC    </td><td>CGGGGGGG        </td><td>2               </td><td> 3              </td><td>332             </td><td>TRAV21          </td><td>TRAJ37          </td><td>TRAJ27_5UTR     </td><td>CAPEGSSNTGKLIF  </td><td>...             </td><td>278             </td><td>0.98            </td><td> 19             </td><td>0               </td><td>  3             </td><td>0               </td><td>329             </td><td>1               </td><td>330             </td><td>0               </td></tr>\n",
       "\t<tr><th scope=row>5</th><td>BC2UMI4         </td><td>TGCATGGATTAC    </td><td>TAGCTATG        </td><td>2               </td><td> 4              </td><td>190             </td><td>TRAV26-1        </td><td>TRAJ37          </td><td>TRAJ53_5UTR     </td><td>CIRGSSNTGKLIF   </td><td>...             </td><td> 73             </td><td>0.99            </td><td> 99             </td><td>0               </td><td> 98             </td><td>0               </td><td>111             </td><td>1               </td><td> 96             </td><td>0               </td></tr>\n",
       "\t<tr><th scope=row>8</th><td>BC2UMI7         </td><td>TGCATGGATTAC    </td><td>GGTGGGGG        </td><td>2               </td><td> 7              </td><td> 53             </td><td>TRBV20-1        </td><td>TRBJ1-6         </td><td>                </td><td>CSARDSGQGLNSPLHF</td><td>...             </td><td> 41             </td><td>1.00            </td><td> 53             </td><td>0               </td><td> 53             </td><td>0               </td><td>  2             </td><td>0               </td><td> 41             </td><td>0               </td></tr>\n",
       "\t<tr><th scope=row>14</th><td>BC2UMI13        </td><td>TGCATGGATTAC    </td><td>GGGGACCG        </td><td>2               </td><td>13              </td><td> 28             </td><td>TRBV12-4        </td><td>TRBJ2-5         </td><td>                </td><td>CASSPTRQETQYF   </td><td>...             </td><td>  1             </td><td>0.09            </td><td> 28             </td><td>0               </td><td> 28             </td><td>0               </td><td> 11             </td><td>0               </td><td>  0             </td><td>0               </td></tr>\n",
       "</tbody>\n",
       "</table>\n"
      ],
      "text/latex": [
       "\\begin{tabular}{r|llllllllllllllllllllllllll}\n",
       "  & UMI\\_Name & BC & UMI & BCNum & UMINum & nReads & TopVregion & TopJregion & TopJ\\_5UTR & CDR3 & ... & CDR3ReadCount & CDR3Freq & TRBV & TRBJ.5UTR & TRBJ & TRBC & TRAV & TRAJ.5UTR & TRAJ & TRAC\\\\\n",
       "\\hline\n",
       "\t1 & BC1UMI1          & CAGACTCGTGGG     & GGCAGCCA         & 1                &  1               & 613              & TRBV7-2          & TRBJ2-7          &                  & CASSPRRDSYEQYF   & ...              & 535              & 0.98             & 612              & 0                & 612              & 0                &   8              & 0                &  23              & 0               \\\\\n",
       "\t2 & BC2UMI1          & TGCATGGATTAC     & TAGAAAAA         & 2                &  1               & 604              & TRBV20-1         & TRBJ1-6          & TRBJ2-6\\_5UTR   & CSARDSGQGLNSPLHF & ...              & 478              & 0.98             & 594              & 1                & 598              & 0                &  33              & 0                & 480              & 0               \\\\\n",
       "\t4 & BC2UMI3          & TGCATGGATTAC     & CGGGGGGG         & 2                &  3               & 332              & TRAV21           & TRAJ37           & TRAJ27\\_5UTR    & CAPEGSSNTGKLIF   & ...              & 278              & 0.98             &  19              & 0                &   3              & 0                & 329              & 1                & 330              & 0               \\\\\n",
       "\t5 & BC2UMI4          & TGCATGGATTAC     & TAGCTATG         & 2                &  4               & 190              & TRAV26-1         & TRAJ37           & TRAJ53\\_5UTR    & CIRGSSNTGKLIF    & ...              &  73              & 0.99             &  99              & 0                &  98              & 0                & 111              & 1                &  96              & 0               \\\\\n",
       "\t8 & BC2UMI7          & TGCATGGATTAC     & GGTGGGGG         & 2                &  7               &  53              & TRBV20-1         & TRBJ1-6          &                  & CSARDSGQGLNSPLHF & ...              &  41              & 1.00             &  53              & 0                &  53              & 0                &   2              & 0                &  41              & 0               \\\\\n",
       "\t14 & BC2UMI13         & TGCATGGATTAC     & GGGGACCG         & 2                & 13               &  28              & TRBV12-4         & TRBJ2-5          &                  & CASSPTRQETQYF    & ...              &   1              & 0.09             &  28              & 0                &  28              & 0                &  11              & 0                &   0              & 0               \\\\\n",
       "\\end{tabular}\n"
      ],
      "text/markdown": [
       "\n",
       "| <!--/--> | UMI_Name | BC | UMI | BCNum | UMINum | nReads | TopVregion | TopJregion | TopJ_5UTR | CDR3 | ... | CDR3ReadCount | CDR3Freq | TRBV | TRBJ.5UTR | TRBJ | TRBC | TRAV | TRAJ.5UTR | TRAJ | TRAC | \n",
       "|---|---|---|---|---|---|\n",
       "| 1 | BC1UMI1          | CAGACTCGTGGG     | GGCAGCCA         | 1                |  1               | 613              | TRBV7-2          | TRBJ2-7          |                  | CASSPRRDSYEQYF   | ...              | 535              | 0.98             | 612              | 0                | 612              | 0                |   8              | 0                |  23              | 0                | \n",
       "| 2 | BC2UMI1          | TGCATGGATTAC     | TAGAAAAA         | 2                |  1               | 604              | TRBV20-1         | TRBJ1-6          | TRBJ2-6_5UTR     | CSARDSGQGLNSPLHF | ...              | 478              | 0.98             | 594              | 1                | 598              | 0                |  33              | 0                | 480              | 0                | \n",
       "| 4 | BC2UMI3          | TGCATGGATTAC     | CGGGGGGG         | 2                |  3               | 332              | TRAV21           | TRAJ37           | TRAJ27_5UTR      | CAPEGSSNTGKLIF   | ...              | 278              | 0.98             |  19              | 0                |   3              | 0                | 329              | 1                | 330              | 0                | \n",
       "| 5 | BC2UMI4          | TGCATGGATTAC     | TAGCTATG         | 2                |  4               | 190              | TRAV26-1         | TRAJ37           | TRAJ53_5UTR      | CIRGSSNTGKLIF    | ...              |  73              | 0.99             |  99              | 0                |  98              | 0                | 111              | 1                |  96              | 0                | \n",
       "| 8 | BC2UMI7          | TGCATGGATTAC     | GGTGGGGG         | 2                |  7               |  53              | TRBV20-1         | TRBJ1-6          |                  | CSARDSGQGLNSPLHF | ...              |  41              | 1.00             |  53              | 0                |  53              | 0                |   2              | 0                |  41              | 0                | \n",
       "| 14 | BC2UMI13         | TGCATGGATTAC     | GGGGACCG         | 2                | 13               |  28              | TRBV12-4         | TRBJ2-5          |                  | CASSPTRQETQYF    | ...              |   1              | 0.09             |  28              | 0                |  28              | 0                |  11              | 0                |   0              | 0                | \n",
       "\n",
       "\n"
      ],
      "text/plain": [
       "   UMI_Name BC           UMI      BCNum UMINum nReads TopVregion TopJregion\n",
       "1  BC1UMI1  CAGACTCGTGGG GGCAGCCA 1      1     613    TRBV7-2    TRBJ2-7   \n",
       "2  BC2UMI1  TGCATGGATTAC TAGAAAAA 2      1     604    TRBV20-1   TRBJ1-6   \n",
       "4  BC2UMI3  TGCATGGATTAC CGGGGGGG 2      3     332    TRAV21     TRAJ37    \n",
       "5  BC2UMI4  TGCATGGATTAC TAGCTATG 2      4     190    TRAV26-1   TRAJ37    \n",
       "8  BC2UMI7  TGCATGGATTAC GGTGGGGG 2      7      53    TRBV20-1   TRBJ1-6   \n",
       "14 BC2UMI13 TGCATGGATTAC GGGGACCG 2     13      28    TRBV12-4   TRBJ2-5   \n",
       "   TopJ_5UTR    CDR3             ... CDR3ReadCount CDR3Freq TRBV TRBJ.5UTR TRBJ\n",
       "1               CASSPRRDSYEQYF   ... 535           0.98     612  0         612 \n",
       "2  TRBJ2-6_5UTR CSARDSGQGLNSPLHF ... 478           0.98     594  1         598 \n",
       "4  TRAJ27_5UTR  CAPEGSSNTGKLIF   ... 278           0.98      19  0           3 \n",
       "5  TRAJ53_5UTR  CIRGSSNTGKLIF    ...  73           0.99      99  0          98 \n",
       "8               CSARDSGQGLNSPLHF ...  41           1.00      53  0          53 \n",
       "14              CASSPTRQETQYF    ...   1           0.09      28  0          28 \n",
       "   TRBC TRAV TRAJ.5UTR TRAJ TRAC\n",
       "1  0      8  0          23  0   \n",
       "2  0     33  0         480  0   \n",
       "4  0    329  1         330  0   \n",
       "5  0    111  1          96  0   \n",
       "8  0      2  0          41  0   \n",
       "14 0     11  0           0  0   "
      ]
     },
     "metadata": {},
     "output_type": "display_data"
    },
    {
     "data": {
      "text/html": [
       "<table>\n",
       "<thead><tr><th></th><th scope=col>UMI_Name</th><th scope=col>BC</th><th scope=col>UMI</th><th scope=col>BCNum</th><th scope=col>UMINum</th><th scope=col>nReads</th><th scope=col>TopVregion</th><th scope=col>TopJregion</th><th scope=col>TopJ_5UTR</th><th scope=col>CDR3</th><th scope=col>...</th><th scope=col>CDR3ReadCount</th><th scope=col>CDR3Freq</th><th scope=col>TRBV</th><th scope=col>TRBJ.5UTR</th><th scope=col>TRBJ</th><th scope=col>TRBC</th><th scope=col>TRAV</th><th scope=col>TRAJ.5UTR</th><th scope=col>TRAJ</th><th scope=col>TRAC</th></tr></thead>\n",
       "<tbody>\n",
       "\t<tr><th scope=row>1</th><td>BC1UMI1         </td><td>CAGACTCGTGGG    </td><td>GGCAGCCA        </td><td>1               </td><td> 1              </td><td>613             </td><td>TRBV7-2         </td><td>TRBJ2-7         </td><td>                </td><td>CASSPRRDSYEQYF  </td><td>...             </td><td>535             </td><td>0.98            </td><td>612             </td><td>0               </td><td>612             </td><td>0               </td><td>  8             </td><td>0               </td><td> 23             </td><td>0               </td></tr>\n",
       "\t<tr><th scope=row>2</th><td>BC2UMI1         </td><td>TGCATGGATTAC    </td><td>TAGAAAAA        </td><td>2               </td><td> 1              </td><td>604             </td><td>TRBV20-1        </td><td>TRBJ1-6         </td><td>TRBJ2-6_5UTR    </td><td>CSARDSGQGLNSPLHF</td><td>...             </td><td>478             </td><td>0.98            </td><td>594             </td><td>1               </td><td>598             </td><td>0               </td><td> 33             </td><td>0               </td><td>480             </td><td>0               </td></tr>\n",
       "\t<tr><th scope=row>4</th><td>BC2UMI3         </td><td>TGCATGGATTAC    </td><td>CGGGGGGG        </td><td>2               </td><td> 3              </td><td>332             </td><td>TRAV21          </td><td>TRAJ37          </td><td>TRAJ27_5UTR     </td><td>CAPEGSSNTGKLIF  </td><td>...             </td><td>278             </td><td>0.98            </td><td> 19             </td><td>0               </td><td>  3             </td><td>0               </td><td>329             </td><td>1               </td><td>330             </td><td>0               </td></tr>\n",
       "\t<tr><th scope=row>5</th><td>BC2UMI4         </td><td>TGCATGGATTAC    </td><td>TAGCTATG        </td><td>2               </td><td> 4              </td><td>190             </td><td>TRAV26-1        </td><td>TRAJ37          </td><td>TRAJ53_5UTR     </td><td>CIRGSSNTGKLIF   </td><td>...             </td><td> 73             </td><td>0.99            </td><td> 99             </td><td>0               </td><td> 98             </td><td>0               </td><td>111             </td><td>1               </td><td> 96             </td><td>0               </td></tr>\n",
       "\t<tr><th scope=row>8</th><td>BC2UMI7         </td><td>TGCATGGATTAC    </td><td>GGTGGGGG        </td><td>2               </td><td> 7              </td><td> 53             </td><td>TRBV20-1        </td><td>TRBJ1-6         </td><td>                </td><td>CSARDSGQGLNSPLHF</td><td>...             </td><td> 41             </td><td>1.00            </td><td> 53             </td><td>0               </td><td> 53             </td><td>0               </td><td>  2             </td><td>0               </td><td> 41             </td><td>0               </td></tr>\n",
       "\t<tr><th scope=row>14</th><td>BC2UMI13        </td><td>TGCATGGATTAC    </td><td>GGGGACCG        </td><td>2               </td><td>13              </td><td> 28             </td><td>TRBV12-4        </td><td>TRBJ2-5         </td><td>                </td><td>CASSPTRQETQYF   </td><td>...             </td><td>  1             </td><td>0.09            </td><td> 28             </td><td>0               </td><td> 28             </td><td>0               </td><td> 11             </td><td>0               </td><td>  0             </td><td>0               </td></tr>\n",
       "</tbody>\n",
       "</table>\n"
      ],
      "text/latex": [
       "\\begin{tabular}{r|llllllllllllllllllllllllll}\n",
       "  & UMI\\_Name & BC & UMI & BCNum & UMINum & nReads & TopVregion & TopJregion & TopJ\\_5UTR & CDR3 & ... & CDR3ReadCount & CDR3Freq & TRBV & TRBJ.5UTR & TRBJ & TRBC & TRAV & TRAJ.5UTR & TRAJ & TRAC\\\\\n",
       "\\hline\n",
       "\t1 & BC1UMI1          & CAGACTCGTGGG     & GGCAGCCA         & 1                &  1               & 613              & TRBV7-2          & TRBJ2-7          &                  & CASSPRRDSYEQYF   & ...              & 535              & 0.98             & 612              & 0                & 612              & 0                &   8              & 0                &  23              & 0               \\\\\n",
       "\t2 & BC2UMI1          & TGCATGGATTAC     & TAGAAAAA         & 2                &  1               & 604              & TRBV20-1         & TRBJ1-6          & TRBJ2-6\\_5UTR   & CSARDSGQGLNSPLHF & ...              & 478              & 0.98             & 594              & 1                & 598              & 0                &  33              & 0                & 480              & 0               \\\\\n",
       "\t4 & BC2UMI3          & TGCATGGATTAC     & CGGGGGGG         & 2                &  3               & 332              & TRAV21           & TRAJ37           & TRAJ27\\_5UTR    & CAPEGSSNTGKLIF   & ...              & 278              & 0.98             &  19              & 0                &   3              & 0                & 329              & 1                & 330              & 0               \\\\\n",
       "\t5 & BC2UMI4          & TGCATGGATTAC     & TAGCTATG         & 2                &  4               & 190              & TRAV26-1         & TRAJ37           & TRAJ53\\_5UTR    & CIRGSSNTGKLIF    & ...              &  73              & 0.99             &  99              & 0                &  98              & 0                & 111              & 1                &  96              & 0               \\\\\n",
       "\t8 & BC2UMI7          & TGCATGGATTAC     & GGTGGGGG         & 2                &  7               &  53              & TRBV20-1         & TRBJ1-6          &                  & CSARDSGQGLNSPLHF & ...              &  41              & 1.00             &  53              & 0                &  53              & 0                &   2              & 0                &  41              & 0               \\\\\n",
       "\t14 & BC2UMI13         & TGCATGGATTAC     & GGGGACCG         & 2                & 13               &  28              & TRBV12-4         & TRBJ2-5          &                  & CASSPTRQETQYF    & ...              &   1              & 0.09             &  28              & 0                &  28              & 0                &  11              & 0                &   0              & 0               \\\\\n",
       "\\end{tabular}\n"
      ],
      "text/markdown": [
       "\n",
       "| <!--/--> | UMI_Name | BC | UMI | BCNum | UMINum | nReads | TopVregion | TopJregion | TopJ_5UTR | CDR3 | ... | CDR3ReadCount | CDR3Freq | TRBV | TRBJ.5UTR | TRBJ | TRBC | TRAV | TRAJ.5UTR | TRAJ | TRAC | \n",
       "|---|---|---|---|---|---|\n",
       "| 1 | BC1UMI1          | CAGACTCGTGGG     | GGCAGCCA         | 1                |  1               | 613              | TRBV7-2          | TRBJ2-7          |                  | CASSPRRDSYEQYF   | ...              | 535              | 0.98             | 612              | 0                | 612              | 0                |   8              | 0                |  23              | 0                | \n",
       "| 2 | BC2UMI1          | TGCATGGATTAC     | TAGAAAAA         | 2                |  1               | 604              | TRBV20-1         | TRBJ1-6          | TRBJ2-6_5UTR     | CSARDSGQGLNSPLHF | ...              | 478              | 0.98             | 594              | 1                | 598              | 0                |  33              | 0                | 480              | 0                | \n",
       "| 4 | BC2UMI3          | TGCATGGATTAC     | CGGGGGGG         | 2                |  3               | 332              | TRAV21           | TRAJ37           | TRAJ27_5UTR      | CAPEGSSNTGKLIF   | ...              | 278              | 0.98             |  19              | 0                |   3              | 0                | 329              | 1                | 330              | 0                | \n",
       "| 5 | BC2UMI4          | TGCATGGATTAC     | TAGCTATG         | 2                |  4               | 190              | TRAV26-1         | TRAJ37           | TRAJ53_5UTR      | CIRGSSNTGKLIF    | ...              |  73              | 0.99             |  99              | 0                |  98              | 0                | 111              | 1                |  96              | 0                | \n",
       "| 8 | BC2UMI7          | TGCATGGATTAC     | GGTGGGGG         | 2                |  7               |  53              | TRBV20-1         | TRBJ1-6          |                  | CSARDSGQGLNSPLHF | ...              |  41              | 1.00             |  53              | 0                |  53              | 0                |   2              | 0                |  41              | 0                | \n",
       "| 14 | BC2UMI13         | TGCATGGATTAC     | GGGGACCG         | 2                | 13               |  28              | TRBV12-4         | TRBJ2-5          |                  | CASSPTRQETQYF    | ...              |   1              | 0.09             |  28              | 0                |  28              | 0                |  11              | 0                |   0              | 0                | \n",
       "\n",
       "\n"
      ],
      "text/plain": [
       "   UMI_Name BC           UMI      BCNum UMINum nReads TopVregion TopJregion\n",
       "1  BC1UMI1  CAGACTCGTGGG GGCAGCCA 1      1     613    TRBV7-2    TRBJ2-7   \n",
       "2  BC2UMI1  TGCATGGATTAC TAGAAAAA 2      1     604    TRBV20-1   TRBJ1-6   \n",
       "4  BC2UMI3  TGCATGGATTAC CGGGGGGG 2      3     332    TRAV21     TRAJ37    \n",
       "5  BC2UMI4  TGCATGGATTAC TAGCTATG 2      4     190    TRAV26-1   TRAJ37    \n",
       "8  BC2UMI7  TGCATGGATTAC GGTGGGGG 2      7      53    TRBV20-1   TRBJ1-6   \n",
       "14 BC2UMI13 TGCATGGATTAC GGGGACCG 2     13      28    TRBV12-4   TRBJ2-5   \n",
       "   TopJ_5UTR    CDR3             ... CDR3ReadCount CDR3Freq TRBV TRBJ.5UTR TRBJ\n",
       "1               CASSPRRDSYEQYF   ... 535           0.98     612  0         612 \n",
       "2  TRBJ2-6_5UTR CSARDSGQGLNSPLHF ... 478           0.98     594  1         598 \n",
       "4  TRAJ27_5UTR  CAPEGSSNTGKLIF   ... 278           0.98      19  0           3 \n",
       "5  TRAJ53_5UTR  CIRGSSNTGKLIF    ...  73           0.99      99  0          98 \n",
       "8               CSARDSGQGLNSPLHF ...  41           1.00      53  0          53 \n",
       "14              CASSPTRQETQYF    ...   1           0.09      28  0          28 \n",
       "   TRBC TRAV TRAJ.5UTR TRAJ TRAC\n",
       "1  0      8  0          23  0   \n",
       "2  0     33  0         480  0   \n",
       "4  0    329  1         330  0   \n",
       "5  0    111  1          96  0   \n",
       "8  0      2  0          41  0   \n",
       "14 0     11  0           0  0   "
      ]
     },
     "metadata": {},
     "output_type": "display_data"
    }
   ],
   "source": [
    "df = read.csv('EoE_TCR_190322_PoolF_EoE_TR1V_TCRalignsortsortMappingSummary.txt', sep = '\\t', header = 1, stringsAsFactors = FALSE)\n",
    "df = df[df$CDR3 != '',]\n",
    "head(df)\n",
    "\n",
    "df2 = read.csv('EoE_TCR_190322_PoolG_EoE_TR1V_TCRalignsortsortMappingSummary.txt', sep = '\\t', header = 1, stringsAsFactors = FALSE)\n",
    "df2 = df2[df2$CDR3 != '',]\n",
    "head(df)\n",
    "\n",
    "df = rbind(df, df2)"
   ]
  },
  {
   "cell_type": "code",
   "execution_count": 2,
   "metadata": {},
   "outputs": [
    {
     "data": {
      "text/html": [
       "4650"
      ],
      "text/latex": [
       "4650"
      ],
      "text/markdown": [
       "4650"
      ],
      "text/plain": [
       "[1] 4650"
      ]
     },
     "metadata": {},
     "output_type": "display_data"
    }
   ],
   "source": [
    "df$umi = paste0(df$BC, df$UMI)\n",
    "df$id = rownames(df)\n",
    "cdrs = unique(df$CDR3)\n",
    "length(cdrs)"
   ]
  },
  {
   "cell_type": "code",
   "execution_count": 3,
   "metadata": {},
   "outputs": [
    {
     "name": "stderr",
     "output_type": "stream",
     "text": [
      "Warning message:\n",
      "\"package 'dplyr' was built under R version 3.5.3\"\n",
      "Attaching package: 'dplyr'\n",
      "\n",
      "The following objects are masked from 'package:stats':\n",
      "\n",
      "    filter, lag\n",
      "\n",
      "The following objects are masked from 'package:base':\n",
      "\n",
      "    intersect, setdiff, setequal, union\n",
      "\n",
      "Warning message:\n",
      "\"package 'stringdist' was built under R version 3.5.3\"0\n",
      "1000\n",
      "2000\n",
      "3000\n",
      "4000\n"
     ]
    }
   ],
   "source": [
    "library(dplyr)\n",
    "library(stringdist)\n",
    "i = 0\n",
    "collisions = c()\n",
    "df$BC = as.character(df$BC)\n",
    "cdrs = unique(df$CDR3)\n",
    "for (curr in cdrs) {\n",
    "    if (i %% 1000 == 0) {\n",
    "        message(i)\n",
    "    }\n",
    "    sub = df %>% filter(CDR3 == curr)\n",
    "    umi = sub$UMI\n",
    "    if (dim(sub)[1] > 1) {\n",
    "        if (length(umi) > 1) {\n",
    "            badumi = umi[duplicated(umi)]\n",
    "            for (curr_bad in badumi) {\n",
    "                relevant_bc = sub$BC[sub$UMI == curr_bad]\n",
    "                curr_data = sub %>% filter(BC %in% relevant_bc)\n",
    "                curr_data =  curr_data %>% group_by(BC) %>% summarize(nUMI = n(), nReads = sum(nReads)) %>% arrange(desc(nUMI), desc(nReads))\n",
    "                bad = curr_data$BC[-1]\n",
    "                bad = paste0(bad, curr_bad)\n",
    "                bad\n",
    "                collisions= c(collisions, bad)\n",
    "            }\n",
    "        }\n",
    "\n",
    "    }\n",
    "            i = i+ 1\n",
    "\n",
    "}\n"
   ]
  },
  {
   "cell_type": "code",
   "execution_count": 4,
   "metadata": {},
   "outputs": [
    {
     "data": {
      "text/html": [
       "<ol class=list-inline>\n",
       "\t<li>17677</li>\n",
       "\t<li>28</li>\n",
       "</ol>\n"
      ],
      "text/latex": [
       "\\begin{enumerate*}\n",
       "\\item 17677\n",
       "\\item 28\n",
       "\\end{enumerate*}\n"
      ],
      "text/markdown": [
       "1. 17677\n",
       "2. 28\n",
       "\n",
       "\n"
      ],
      "text/plain": [
       "[1] 17677    28"
      ]
     },
     "metadata": {},
     "output_type": "display_data"
    }
   ],
   "source": [
    "keep = df %>% filter(!umi%in%collisions)\n",
    "dim(keep)\n",
    "write.table(keep, 'umi_collision.txt', col.names = TRUE, row.names = FALSE, sep= '\\t')"
   ]
  }
 ],
 "metadata": {
  "kernelspec": {
   "display_name": "R 3.5.1",
   "language": "R",
   "name": "ir32"
  },
  "language_info": {
   "codemirror_mode": "r",
   "file_extension": ".r",
   "mimetype": "text/x-r-source",
   "name": "R",
   "pygments_lexer": "r",
   "version": "3.5.1"
  }
 },
 "nbformat": 4,
 "nbformat_minor": 2
}
